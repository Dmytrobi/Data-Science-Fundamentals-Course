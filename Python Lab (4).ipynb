{
 "cells": [
  {
   "cell_type": "markdown",
   "metadata": {
    "colab_type": "text",
    "id": "KOP7kgV5PSl2"
   },
   "source": [
    "# Python and algorithms"
   ]
  },
  {
   "cell_type": "markdown",
   "metadata": {
    "colab_type": "text",
    "id": "0R6uyhNyjPMc"
   },
   "source": [
    "##### Сomplete this part of test without using any libs (your code must not contain keyword 'import')"
   ]
  },
  {
   "cell_type": "markdown",
   "metadata": {
    "colab_type": "text",
    "id": "GC_iufBgjPMd"
   },
   "source": [
    "#### 1. Implement function str_to_dict(some_str) which returnes dictionary, where keys are string characters, and values are their quantity in the string:\n",
    "\n",
    "<div style=\"text-align: right\">1 point</div>"
   ]
  },
  {
   "cell_type": "code",
   "execution_count": 60,
   "metadata": {
    "colab": {
     "autoexec": {
      "startup": false,
      "wait_interval": 0
     }
    },
    "colab_type": "code",
    "id": "DDou3xupjPMe"
   },
   "outputs": [],
   "source": [
    "def str_to_dict(some_str):  \n",
    "    \"\"\"\n",
    "    :param some_str: str\n",
    "    :return: dict\n",
    "    \"\"\"\n",
    "    # YOUR CODE HERE\n",
    "    dict_1 = dict()\n",
    "    for elem in some_str:\n",
    "        if elem not in dict_1:\n",
    "            dict_1[elem] = 1\n",
    "        else:\n",
    "            dict_1[elem] += 1\n",
    "    return dict_1"
   ]
  },
  {
   "cell_type": "code",
   "execution_count": 61,
   "metadata": {
    "colab": {
     "autoexec": {
      "startup": false,
      "wait_interval": 0
     }
    },
    "colab_type": "code",
    "id": "FPjc0Ckxsdbl"
   },
   "outputs": [
    {
     "name": "stdout",
     "output_type": "stream",
     "text": [
      "Str to dict: {'d': 1, 'a': 2, 't': 3, 'r': 2, 'o': 2, '_': 1, 'u': 1, 'n': 1, 'i': 2, 'v': 1, 'e': 1, 's': 1, 'y': 1}\n"
     ]
    }
   ],
   "source": [
    "print('Str to dict:', str_to_dict('dataroot_university'))"
   ]
  },
  {
   "cell_type": "markdown",
   "metadata": {
    "colab_type": "text",
    "id": "nurux2Btsdbn"
   },
   "source": [
    "Expected Output: \n",
    "<table>\n",
    "  <tr>\n",
    "    <td>Str to dict:</td>\n",
    "    <td> {'d': 1, 'a': 2, 't': 3, 'r': 2, 'o': 2, '_': 1, 'u': 1, 'n': 1, 'i': 2, 'v': 1, 'e': 1, 's': 1, 'y': 1} </td> \n",
    "  </tr>"
   ]
  },
  {
   "cell_type": "markdown",
   "metadata": {
    "colab_type": "text",
    "id": "ELtxJQQLjPMi"
   },
   "source": [
    "#### 2. Implement function sec_smallest(numbers) which returns second smallest item in the list, without using the built-in sorting methods (your code mustn't contain such words as 'sort', 'sorted'):\n",
    "\n",
    "<div style=\"text-align: right\">1 point\n",
    "  "
   ]
  },
  {
   "cell_type": "code",
   "execution_count": 1,
   "metadata": {
    "colab": {
     "autoexec": {
      "startup": false,
      "wait_interval": 0
     }
    },
    "colab_type": "code",
    "id": "yJVJiK9jjPMj"
   },
   "outputs": [],
   "source": [
    "def sec_smallest(numbers):\n",
    "    \"\"\"\n",
    "    :param numbers: list[int]\n",
    "    :return: int    \n",
    "    \"\"\"\n",
    "    # YOUR CODE HERe\n",
    "    smallest = min(numbers)\n",
    "    sec_smallest = max(numbers)\n",
    "    for elem in numbers:\n",
    "        if sec_smallest > elem and elem > smallest:\n",
    "            sec_smallest = elem\n",
    "            \n",
    "    return sec_smallest"
   ]
  },
  {
   "cell_type": "code",
   "execution_count": 2,
   "metadata": {
    "colab": {
     "autoexec": {
      "startup": false,
      "wait_interval": 0
     }
    },
    "colab_type": "code",
    "id": "pg4ry_8Csdbq"
   },
   "outputs": [
    {
     "name": "stdout",
     "output_type": "stream",
     "text": [
      "Sec_smallest: -2\n"
     ]
    }
   ],
   "source": [
    "print('Sec_smallest:', sec_smallest([1, 2, -8, -8, -2, 0]))"
   ]
  },
  {
   "cell_type": "markdown",
   "metadata": {
    "colab_type": "text",
    "id": "qVlYH9axsdbs"
   },
   "source": [
    "Expected Output: \n",
    "<table>\n",
    "  <tr>\n",
    "    <td>Sec_smallest:</td>\n",
    "    <td> -2 </td> \n",
    "  </tr>"
   ]
  },
  {
   "cell_type": "markdown",
   "metadata": {
    "colab_type": "text",
    "id": "tzgLZ6VijPMo"
   },
   "source": [
    "#### 3. Implement function prime_nums(n) that returns list of numbers which  are simple and < n:\n",
    "\n",
    "<div style=\"text-align: right\">1 point</div>"
   ]
  },
  {
   "cell_type": "code",
   "execution_count": 3,
   "metadata": {
    "colab": {
     "autoexec": {
      "startup": false,
      "wait_interval": 0
     }
    },
    "colab_type": "code",
    "id": "jvVD9N32jPMp"
   },
   "outputs": [],
   "source": [
    "def prime_nums(n):\n",
    "    \"\"\"\n",
    "    :param n: int\n",
    "    :return: list[int]\n",
    "    \"\"\"\n",
    "    # YOUR CODE HERE\n",
    "    prime_numbers = list()\n",
    "#   prime_numbers = [2, 3]\n",
    "    \n",
    "    for i in range(2, n):\n",
    "        for k in range(2, i):\n",
    "            if i % k == 0:\n",
    "                break\n",
    "        else:\n",
    "            prime_numbers.append(i)\n",
    "        \n",
    "    return prime_numbers"
   ]
  },
  {
   "cell_type": "code",
   "execution_count": 4,
   "metadata": {},
   "outputs": [
    {
     "name": "stdout",
     "output_type": "stream",
     "text": [
      "Prime numbers: [2, 3, 5, 7, 11, 13, 17, 19, 23, 29]\n"
     ]
    }
   ],
   "source": [
    "print('Prime numbers:', prime_nums(30))"
   ]
  },
  {
   "cell_type": "markdown",
   "metadata": {
    "colab": {
     "autoexec": {
      "startup": false,
      "wait_interval": 0
     }
    },
    "colab_type": "code",
    "id": "Zf9DMkN9sdbw"
   },
   "source": [
    "print('Prime numbers:', prime_nums(30))"
   ]
  },
  {
   "cell_type": "markdown",
   "metadata": {
    "colab_type": "text",
    "id": "pYutFqaAsdbz"
   },
   "source": [
    "Expected Output:\n",
    "<table>\n",
    "  <tr>\n",
    "    <td>Prime numbers:</td>\n",
    "    <td>[2, 3, 5, 7, 11, 13, 17, 19, 23, 29]</td>\n",
    "  </tr>"
   ]
  },
  {
   "cell_type": "markdown",
   "metadata": {},
   "source": [
    "**4. Implement function max_sum_index(tuples), which returnes index of tuple in the list with maximum sum of elements:**\n",
    "\n",
    "<div style=\"text-align: right\">1 point</div>"
   ]
  },
  {
   "cell_type": "code",
   "execution_count": 5,
   "metadata": {},
   "outputs": [],
   "source": [
    "def max_sum_index(tuples):  \n",
    "    '''\n",
    "    :param tuples: list[tuple]\n",
    "    :return: int\n",
    "    '''\n",
    "    # YOUR CODE HERE\n",
    "    max_sum_index = 0\n",
    "    max_sum = 0\n",
    "    for i in range(0, len(tuples)):\n",
    "        small_list =tuples[i]\n",
    "        if max_sum < sum(small_list):\n",
    "            max_sum = sum(small_list) \n",
    "            max_sum_index = i\n",
    "\n",
    "\n",
    "    return max_sum_index"
   ]
  },
  {
   "cell_type": "code",
   "execution_count": 6,
   "metadata": {},
   "outputs": [
    {
     "name": "stdout",
     "output_type": "stream",
     "text": [
      "Index: 1\n"
     ]
    }
   ],
   "source": [
    "print(\"Index:\", max_sum_index([(10, 20), (40, 32), (30, 25)]))\n"
   ]
  },
  {
   "cell_type": "markdown",
   "metadata": {},
   "source": [
    "Expected Output: \n",
    "<table>\n",
    "  <tr>\n",
    "    <td>Index:</td>\n",
    "    <td> 1 </td> \n",
    "  </tr>"
   ]
  },
  {
   "cell_type": "markdown",
   "metadata": {},
   "source": [
    "**5. Implement function gcd(x, y), which returns the greatest common divisor of n and m.**\n",
    "<div style=\"text-align: right\">1 point</div>"
   ]
  },
  {
   "cell_type": "code",
   "execution_count": 7,
   "metadata": {},
   "outputs": [],
   "source": [
    "def gcd(a, b):   \n",
    "    '''\n",
    "    :params m,n: int\n",
    "    :return: int\n",
    "    '''\n",
    "    # YOUR CODE HERE\n",
    "    while a != 0 and b != 0:\n",
    "        if a > b:\n",
    "            a = a % b\n",
    "        else:\n",
    "            b = b % a\n",
    "    return a + b\n"
   ]
  },
  {
   "cell_type": "code",
   "execution_count": 8,
   "metadata": {},
   "outputs": [
    {
     "name": "stdout",
     "output_type": "stream",
     "text": [
      "GCD: 20\n"
     ]
    }
   ],
   "source": [
    "print(\"GCD:\", gcd(160, 180))"
   ]
  },
  {
   "cell_type": "markdown",
   "metadata": {},
   "source": [
    "Expected Output: \n",
    "<table>\n",
    "  <tr>\n",
    "    <td>GCD:</td>\n",
    "    <td> 20 </td> \n",
    "  </tr>"
   ]
  },
  {
   "cell_type": "markdown",
   "metadata": {},
   "source": [
    "#### 6. Implement recursive sum of the list:\n",
    "<div style=\"text-align: right\">1 point</div>"
   ]
  },
  {
   "cell_type": "code",
   "execution_count": 9,
   "metadata": {},
   "outputs": [],
   "source": [
    "def recursive_list_sum(data_list):\n",
    "    \"\"\"\n",
    "    :param data_list: list[list]\n",
    "    \"\"\"\n",
    "    # YOUR CODE HERE\n",
    "    some_list = []\n",
    "    list_sum = 0\n",
    "    for i in reversed(range(len(data_list))):\n",
    "        print(data_list)\n",
    "        if type(data_list[i]) == type(some_list):\n",
    "            data_list[i] = sum(data_list[i])\n",
    "            \n",
    "    return sum(data_list)"
   ]
  },
  {
   "cell_type": "code",
   "execution_count": 10,
   "metadata": {},
   "outputs": [
    {
     "name": "stdout",
     "output_type": "stream",
     "text": [
      "[1, 2, [3, 4], [5, 6], [7, 8, 9]]\n",
      "[1, 2, [3, 4], [5, 6], 24]\n",
      "[1, 2, [3, 4], 11, 24]\n",
      "[1, 2, 7, 11, 24]\n",
      "[1, 2, 7, 11, 24]\n",
      "The sum of a list is 45\n"
     ]
    }
   ],
   "source": [
    "print('The sum of a list is', recursive_list_sum([1, 2, [3,4],[5,6], [7, 8, 9]]))"
   ]
  },
  {
   "cell_type": "markdown",
   "metadata": {},
   "source": [
    "Expected Output:\n",
    "<table>\n",
    "  <tr>\n",
    "    <td>The sum of a list is 45</td> \n",
    "  </tr>"
   ]
  },
  {
   "cell_type": "markdown",
   "metadata": {},
   "source": [
    "#### 7. Implement decorator which returns function signature and it's return value:\n",
    "<div style=\"text-align: right\">1 point</div>"
   ]
  },
  {
   "cell_type": "code",
   "execution_count": 173,
   "metadata": {},
   "outputs": [],
   "source": [
    "def debug(func):\n",
    "    \"\"\"\n",
    "    :param func: function\n",
    "    \"\"\"\n",
    "    # YOUR CODE HERE\n",
    "    def wrapper(a, b):\n",
    "        c = func.__name__ + \"(%s\" %a + \", %s)\" %b +  \" was called and returned \" + \"%s\" %func(a, b)\n",
    "        return c\n",
    "    return wrapper\n",
    "   "
   ]
  },
  {
   "cell_type": "code",
   "execution_count": 174,
   "metadata": {},
   "outputs": [
    {
     "data": {
      "text/plain": [
       "'add(3, 4) was called and returned 7'"
      ]
     },
     "execution_count": 174,
     "metadata": {},
     "output_type": "execute_result"
    }
   ],
   "source": [
    "@debug\n",
    "def add(a, b):\n",
    "    return a + b\n",
    "    \n",
    "add(3, 4)\n"
   ]
  },
  {
   "cell_type": "markdown",
   "metadata": {},
   "source": [
    "Expected Output:\n",
    "<table>\n",
    "  <tr>\n",
    "    <td>'add(3, 4) was called and returned 7'</td>\n",
    "  </tr>"
   ]
  },
  {
   "cell_type": "markdown",
   "metadata": {
    "colab_type": "text",
    "id": "p96mEq8vjPMr"
   },
   "source": [
    "#### 8. Implement class Conv, that contains method to_roman(self, n), which converts decimal numbers to Roman numerals:\n",
    "\n",
    "<div style=\"text-align: right\">2 points</div>"
   ]
  },
  {
   "cell_type": "code",
   "execution_count": 46,
   "metadata": {
    "colab": {
     "autoexec": {
      "startup": false,
      "wait_interval": 0
     }
    },
    "colab_type": "code",
    "id": "weYiaNWojPMs"
   },
   "outputs": [],
   "source": [
    "class Conv:\n",
    "    def __init__(self):\n",
    "        self.val = [\n",
    "            1000, 900, 500, 400,\n",
    "            100, 90, 50, 40,\n",
    "            10, 9, 5, 4, 1\n",
    "        ]\n",
    "\n",
    "        self.syb = [\n",
    "            'M', 'CM', 'D', 'CD',\n",
    "            'C', 'XC', 'L', 'XL',\n",
    "            'X', 'IX', 'V', 'IV',\n",
    "            'I'\n",
    "        ]\n",
    "        \n",
    "    def to_roman(self, num):    \n",
    "        \"\"\"\n",
    "        :param self:\n",
    "        :param n: int\n",
    "        :return: str    \n",
    "        \"\"\"\n",
    "        # YOUR CODE HERE\n",
    "        \n",
    "        roman_num = \"\"\n",
    "        i = 0\n",
    "        while  num > 0:\n",
    "            for _ in range(num // self.val[i]):\n",
    "                roman_num += self.syb[i]\n",
    "                num -= self.val[i]\n",
    "            i += 1\n",
    "        return roman_num\n",
    "        \n",
    "        \n",
    "#         roman = \"\"\n",
    "#         for i in range(len(self.val)):\n",
    "#             if num//self.val[i] == 0:\n",
    "#                 continue\n",
    "#             else:       \n",
    "#                 roman.append(self.syb[])\n",
    "                                                         "
   ]
  },
  {
   "cell_type": "code",
   "execution_count": 47,
   "metadata": {
    "colab": {
     "autoexec": {
      "startup": false,
      "wait_interval": 0
     }
    },
    "colab_type": "code",
    "id": "NdffBhZesdb6"
   },
   "outputs": [
    {
     "name": "stdout",
     "output_type": "stream",
     "text": [
      "Converted: XLIV\n"
     ]
    }
   ],
   "source": [
    "print('Converted:', Conv().to_roman(44))"
   ]
  },
  {
   "cell_type": "markdown",
   "metadata": {
    "colab_type": "text",
    "id": "lF6Acd9gsdb8"
   },
   "source": [
    "Expected Output:\n",
    "<table>\n",
    "  <tr>\n",
    "    <td>Converted:</td>\n",
    "    <td>XLIV</td> \n",
    "  </tr>"
   ]
  }
 ],
 "metadata": {
  "colab": {
   "collapsed_sections": [],
   "default_view": {},
   "name": "DataRoot University  _ Data Science Module 1 _ Test 1.ipynb",
   "provenance": [],
   "version": "0.3.2",
   "views": {}
  },
  "kernelspec": {
   "display_name": "Python 3",
   "language": "python",
   "name": "python3"
  },
  "language_info": {
   "codemirror_mode": {
    "name": "ipython",
    "version": 3
   },
   "file_extension": ".py",
   "mimetype": "text/x-python",
   "name": "python",
   "nbconvert_exporter": "python",
   "pygments_lexer": "ipython3",
   "version": "3.7.6"
  }
 },
 "nbformat": 4,
 "nbformat_minor": 1
}
